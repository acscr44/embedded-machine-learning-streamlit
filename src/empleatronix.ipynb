{
 "cells": [
  {
   "cell_type": "code",
   "execution_count": 115,
   "metadata": {},
   "outputs": [
    {
     "data": {
      "text/html": [
       "<div>\n",
       "<style scoped>\n",
       "    .dataframe tbody tr th:only-of-type {\n",
       "        vertical-align: middle;\n",
       "    }\n",
       "\n",
       "    .dataframe tbody tr th {\n",
       "        vertical-align: top;\n",
       "    }\n",
       "\n",
       "    .dataframe thead th {\n",
       "        text-align: right;\n",
       "    }\n",
       "</style>\n",
       "<table border=\"1\" class=\"dataframe\">\n",
       "  <thead>\n",
       "    <tr style=\"text-align: right;\">\n",
       "      <th></th>\n",
       "      <th>full name</th>\n",
       "      <th>salary</th>\n",
       "      <th>gender</th>\n",
       "      <th>email</th>\n",
       "    </tr>\n",
       "  </thead>\n",
       "  <tbody>\n",
       "    <tr>\n",
       "      <th>0</th>\n",
       "      <td>Mathian Comiam</td>\n",
       "      <td>1132</td>\n",
       "      <td>Male</td>\n",
       "      <td>mcomiam0@mtv.com</td>\n",
       "    </tr>\n",
       "    <tr>\n",
       "      <th>1</th>\n",
       "      <td>Korney Munns</td>\n",
       "      <td>2290</td>\n",
       "      <td>Female</td>\n",
       "      <td>kmunns1@imgur.com</td>\n",
       "    </tr>\n",
       "    <tr>\n",
       "      <th>2</th>\n",
       "      <td>Isa Caswell</td>\n",
       "      <td>3717</td>\n",
       "      <td>Female</td>\n",
       "      <td>icaswell2@creativecommons.org</td>\n",
       "    </tr>\n",
       "    <tr>\n",
       "      <th>3</th>\n",
       "      <td>Orv Tamburi</td>\n",
       "      <td>1433</td>\n",
       "      <td>Male</td>\n",
       "      <td>otamburi3@dot.gov</td>\n",
       "    </tr>\n",
       "    <tr>\n",
       "      <th>4</th>\n",
       "      <td>Judy Tremmel</td>\n",
       "      <td>1321</td>\n",
       "      <td>Female</td>\n",
       "      <td>jtremmel4@linkedin.com</td>\n",
       "    </tr>\n",
       "  </tbody>\n",
       "</table>\n",
       "</div>"
      ],
      "text/plain": [
       "        full name  salary  gender                          email\n",
       "0  Mathian Comiam    1132    Male               mcomiam0@mtv.com\n",
       "1    Korney Munns    2290  Female              kmunns1@imgur.com\n",
       "2     Isa Caswell    3717  Female  icaswell2@creativecommons.org\n",
       "3     Orv Tamburi    1433    Male              otamburi3@dot.gov\n",
       "4    Judy Tremmel    1321  Female         jtremmel4@linkedin.com"
      ]
     },
     "execution_count": 115,
     "metadata": {},
     "output_type": "execute_result"
    }
   ],
   "source": [
    "# Load a csv:\n",
    "import numpy as np\n",
    "import pandas as pd\n",
    "import seaborn as sns\n",
    "import matplotlib.pyplot as plt\n",
    "\n",
    "df = pd.read_csv(\"/home/aecc/2324_IABD/ia2324/7_Streamlit/empleatronix_streamlit/src/employees.csv\")\n",
    "df.head()"
   ]
  },
  {
   "cell_type": "code",
   "execution_count": 116,
   "metadata": {},
   "outputs": [
    {
     "name": "stdout",
     "output_type": "stream",
     "text": [
      "<class 'pandas.core.frame.DataFrame'>\n",
      "RangeIndex: 20 entries, 0 to 19\n",
      "Data columns (total 4 columns):\n",
      " #   Column     Non-Null Count  Dtype \n",
      "---  ------     --------------  ----- \n",
      " 0   full name  20 non-null     object\n",
      " 1   salary     20 non-null     int64 \n",
      " 2   gender     20 non-null     object\n",
      " 3   email      20 non-null     object\n",
      "dtypes: int64(1), object(3)\n",
      "memory usage: 768.0+ bytes\n"
     ]
    }
   ],
   "source": [
    "df.info()"
   ]
  },
  {
   "cell_type": "code",
   "execution_count": 117,
   "metadata": {},
   "outputs": [
    {
     "data": {
      "text/html": [
       "<div>\n",
       "<style scoped>\n",
       "    .dataframe tbody tr th:only-of-type {\n",
       "        vertical-align: middle;\n",
       "    }\n",
       "\n",
       "    .dataframe tbody tr th {\n",
       "        vertical-align: top;\n",
       "    }\n",
       "\n",
       "    .dataframe thead th {\n",
       "        text-align: right;\n",
       "    }\n",
       "</style>\n",
       "<table border=\"1\" class=\"dataframe\">\n",
       "  <thead>\n",
       "    <tr style=\"text-align: right;\">\n",
       "      <th></th>\n",
       "      <th>salary</th>\n",
       "    </tr>\n",
       "  </thead>\n",
       "  <tbody>\n",
       "    <tr>\n",
       "      <th>count</th>\n",
       "      <td>20.000000</td>\n",
       "    </tr>\n",
       "    <tr>\n",
       "      <th>mean</th>\n",
       "      <td>2715.950000</td>\n",
       "    </tr>\n",
       "    <tr>\n",
       "      <th>std</th>\n",
       "      <td>954.535019</td>\n",
       "    </tr>\n",
       "    <tr>\n",
       "      <th>min</th>\n",
       "      <td>1132.000000</td>\n",
       "    </tr>\n",
       "    <tr>\n",
       "      <th>25%</th>\n",
       "      <td>1977.000000</td>\n",
       "    </tr>\n",
       "    <tr>\n",
       "      <th>50%</th>\n",
       "      <td>2594.500000</td>\n",
       "    </tr>\n",
       "    <tr>\n",
       "      <th>75%</th>\n",
       "      <td>3717.250000</td>\n",
       "    </tr>\n",
       "    <tr>\n",
       "      <th>max</th>\n",
       "      <td>3876.000000</td>\n",
       "    </tr>\n",
       "  </tbody>\n",
       "</table>\n",
       "</div>"
      ],
      "text/plain": [
       "            salary\n",
       "count    20.000000\n",
       "mean   2715.950000\n",
       "std     954.535019\n",
       "min    1132.000000\n",
       "25%    1977.000000\n",
       "50%    2594.500000\n",
       "75%    3717.250000\n",
       "max    3876.000000"
      ]
     },
     "execution_count": 117,
     "metadata": {},
     "output_type": "execute_result"
    }
   ],
   "source": [
    "df.describe()\n"
   ]
  },
  {
   "cell_type": "code",
   "execution_count": 118,
   "metadata": {},
   "outputs": [
    {
     "name": "stdout",
     "output_type": "stream",
     "text": [
      "               full name  salary      gender                          email\n",
      "0         Mathian Comiam    1132        Male               mcomiam0@mtv.com\n",
      "1           Korney Munns    2290      Female              kmunns1@imgur.com\n",
      "2            Isa Caswell    3717      Female  icaswell2@creativecommons.org\n",
      "3            Orv Tamburi    1433        Male              otamburi3@dot.gov\n",
      "4           Judy Tremmel    1321      Female         jtremmel4@linkedin.com\n",
      "5        Reamonn Vuitton    3841        Male            rvuitton5@vimeo.com\n",
      "6            Jonie Epton    3442      Female               jepton6@phoca.cz\n",
      "7      Colver Clemenceau    1990        Male         cclemenceau7@jimdo.com\n",
      "8        Raye Silverwood    3876      Female          rsilverwood8@admin.ch\n",
      "9         Electra Galero    3734      Female             egalero9@ocn.ne.jp\n",
      "10  Leonanie Corradeschi    3718      Female         lcorradeschia@usda.gov\n",
      "11    Gunther Pennington    3093        Male    gpenningtonb@vistaprint.com\n",
      "12           Marlo Giamo    2387        Male              mgiamoc@salon.com\n",
      "13        Madonna Ganley    2578      Female            mganleyd@sbwire.com\n",
      "14         Debee Corthes    1938  Polygender          dcorthese@answers.com\n",
      "15        Sibylla Origin    3432      Female             soriginf@google.it\n",
      "16        Gertrud Calken    2611      Female              gcalkeng@army.mil\n",
      "17      Isabelita Schuck    3836      Female             ischuckh@house.gov\n",
      "18        Steven Gotcher    1441        Male                 sgotcheri@t.co\n",
      "19       Helaina Vamplus    2509      Female           hvamplusj@amazon.com\n"
     ]
    }
   ],
   "source": [
    "# df = df[::-1]\n",
    "print(df)"
   ]
  },
  {
   "cell_type": "code",
   "execution_count": 122,
   "metadata": {},
   "outputs": [],
   "source": [
    "nombre = False"
   ]
  },
  {
   "cell_type": "code",
   "execution_count": 123,
   "metadata": {},
   "outputs": [
    {
     "name": "stdout",
     "output_type": "stream",
     "text": [
      "0 1132\n",
      "1 2290\n",
      "2 3717\n",
      "3 1433\n",
      "4 1321\n",
      "5 3841\n",
      "6 3442\n",
      "7 1990\n",
      "8 3876\n",
      "9 3734\n",
      "10 3718\n",
      "11 3093\n",
      "12 2387\n",
      "13 2578\n",
      "14 1938\n",
      "15 3432\n",
      "16 2611\n",
      "17 3836\n",
      "18 1441\n",
      "19 2509\n"
     ]
    },
    {
     "data": {
      "image/png": "[encoded data removed]",
      "text/plain": [
       "<Figure size 1000x800 with 1 Axes>"
      ]
     },
     "metadata": {},
     "output_type": "display_data"
    }
   ],
   "source": [
    "sns.set_style(\"white\")\n",
    "plt.figure(figsize=(10, 8))\n",
    "sns.barplot(x=\"salary\", y=\"full name\", data=df, color='b')\n",
    "\n",
    "if nombre:\n",
    "    # Mostrar el full name de la gráfica:\n",
    "    plt.yticks(df.index, df['full name'], fontsize=10)\n",
    "else:\n",
    "    # Ocultar el full name de la gráfica:\n",
    "    plt.yticks([])\n",
    "\n",
    "\n",
    "for i in range(len(df)):\n",
    "    plt.text(df.salary[i], i, df.salary[i], ha='left', va='center', color='black', fontsize=10)\n",
    "    print(i, df.salary[i])\n",
    "\n",
    "\n",
    "# Invierte todos los resultados del eje y:\n",
    "plt.gca().invert_yaxis()\n",
    "    \n",
    "\n",
    "# sin etiquetas\n",
    "plt.xlabel('')\n",
    "plt.ylabel('')\n",
    "plt.title(\"Salario de empleados\")\n",
    "\n",
    "plt.grid(axis='x', linestyle='-')\n",
    "\n",
    "plt.xlim(0, 4500)\n",
    "plt.show()\n"
   ]
  },
  {
   "cell_type": "code",
   "execution_count": 7,
   "metadata": {},
   "outputs": [
    {
     "data": {
      "image/png": "[encoded data removed]",
      "text/plain": [
       "<Figure size 640x480 with 1 Axes>"
      ]
     },
     "metadata": {},
     "output_type": "display_data"
    }
   ],
   "source": [
    "# Boxplot:\n",
    "plt.boxplot(df[\"salary\"])\n",
    "plt.show()"
   ]
  }
 ],
 "metadata": {
  "kernelspec": {
   "display_name": "Python 3",
   "language": "python",
   "name": "python3"
  },
  "language_info": {
   "codemirror_mode": {
    "name": "ipython",
    "version": 3
   },
   "file_extension": ".py",
   "mimetype": "text/x-python",
   "name": "python",
   "nbconvert_exporter": "python",
   "pygments_lexer": "ipython3",
   "version": "3.10.12"
  },
  "orig_nbformat": 4
 },
 "nbformat": 4,
 "nbformat_minor": 2
}
